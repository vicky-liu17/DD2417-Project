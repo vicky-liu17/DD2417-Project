{
 "cells": [
  {
   "cell_type": "markdown",
   "id": "9ccbd3ac",
   "metadata": {},
   "source": [
    "# Demo with Cross-Encoder"
   ]
  },
  {
   "cell_type": "code",
   "execution_count": 9,
   "id": "ff6ab918",
   "metadata": {},
   "outputs": [],
   "source": [
    "from sentence_transformers.cross_encoder import CrossEncoder\n",
    "import numpy as np\n",
    "import torch\n",
    "\n",
    "model_finetuned_path = \"models/finetuned_model\"\n",
    "# load model\n",
    "model_finetuned = CrossEncoder(model_finetuned_path)"
   ]
  },
  {
   "cell_type": "code",
   "execution_count": 10,
   "id": "b4186d0b",
   "metadata": {},
   "outputs": [
    {
     "name": "stdout",
     "output_type": "stream",
     "text": [
      "Sigmoid output: 0.9532784223556519, Predicted label: 1\n"
     ]
    }
   ],
   "source": [
    "doctor = [\"She is employed as a medical doctor\", \n",
    "          \"She works as a physician\"]\n",
    "\n",
    "prob = model_finetuned.predict(doctor, activation_fn=torch.nn.Sigmoid())\n",
    "print(f\"Sigmoid output: {prob}, Predicted label: {np.where(prob > 0.5, 1, 0)}\")"
   ]
  },
  {
   "cell_type": "code",
   "execution_count": 11,
   "id": "9eb5358b",
   "metadata": {},
   "outputs": [
    {
     "name": "stdout",
     "output_type": "stream",
     "text": [
      "Sigmoid output: 0.992347240447998, Predicted label: 1\n"
     ]
    }
   ],
   "source": [
    "dogs = [\"There is a warm dog in the car\",\n",
    "        \"There is a hot dog in the car\"]\n",
    "\n",
    "prob = model_finetuned.predict(dogs, activation_fn=torch.nn.Sigmoid())\n",
    "print(f\"Sigmoid output: {prob}, Predicted label: {np.where(prob > 0.5, 1, 0)}\")"
   ]
  },
  {
   "cell_type": "code",
   "execution_count": 12,
   "id": "1479a6d9",
   "metadata": {},
   "outputs": [
    {
     "name": "stdout",
     "output_type": "stream",
     "text": [
      "Sigmoid output: 0.9960092306137085, Predicted label: 1\n"
     ]
    }
   ],
   "source": [
    "# Same dog-example but as questions\n",
    "\n",
    "dogs = [\"What is a warm dog?\",\n",
    "        \"What is a hot dog?\"]\n",
    "\n",
    "prob = model_finetuned.predict(dogs, activation_fn=torch.nn.Sigmoid())\n",
    "print(f\"Sigmoid output: {prob}, Predicted label: {np.where(prob > 0.5, 1, 0)}\")"
   ]
  },
  {
   "cell_type": "code",
   "execution_count": 13,
   "id": "9e7b7e02",
   "metadata": {},
   "outputs": [
    {
     "name": "stdout",
     "output_type": "stream",
     "text": [
      "Sigmoid output: [0.01711059], Predicted label: [0]\n"
     ]
    }
   ],
   "source": [
    "q1 = input(\"Enter the first question: \")\n",
    "q2 = input(\"Enter second question: \")\n",
    "prob = model_finetuned.predict([(q1, q2)], activation_fn=torch.nn.Sigmoid())\n",
    "print(f\"Sigmoid output: {prob}, Predicted label: {np.where(prob > 0.5, 1, 0)}\")"
   ]
  }
 ],
 "metadata": {
  "kernelspec": {
   "display_name": "venv",
   "language": "python",
   "name": "python3"
  },
  "language_info": {
   "codemirror_mode": {
    "name": "ipython",
    "version": 3
   },
   "file_extension": ".py",
   "mimetype": "text/x-python",
   "name": "python",
   "nbconvert_exporter": "python",
   "pygments_lexer": "ipython3",
   "version": "3.10.12"
  }
 },
 "nbformat": 4,
 "nbformat_minor": 5
}
